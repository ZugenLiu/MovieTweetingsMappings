{
 "cells": [
  {
   "cell_type": "code",
   "execution_count": null,
   "metadata": {
    "collapsed": false
   },
   "outputs": [],
   "source": [
    "\"\"\"\n",
    "Import modules\n",
    "\"\"\"\n",
    "import urllib\n",
    "import zipfile\n",
    "import pandas as pd\n",
    "import numpy as np\n",
    "import warnings\n",
    "import rdflib\n",
    "import re\n",
    "from SPARQLWrapper import SPARQLWrapper, JSON\n",
    "import random\n",
    "import datetime\n",
    "warnings.filterwarnings('ignore')\n",
    "sparqlEndpoint = \"http://dbpedia.org/sparql\"\n",
    "# sparqlEndpoint = \"http://live.dbpedia.org/sparql\""
   ]
  },
  {
   "cell_type": "code",
   "execution_count": null,
   "metadata": {
    "collapsed": true
   },
   "outputs": [],
   "source": [
    "\"\"\"\n",
    "Levenshtein distance\n",
    "\"\"\"\n",
    "# http://en.wikibooks.org/wiki/Algorithm_Implementation/Strings/Levenshtein_distance#Python\n",
    "def levenshtein(source, target):\n",
    "    if len(source) < len(target):\n",
    "        return levenshtein(target, source)\n",
    " \n",
    "    # So now we have len(source) >= len(target).\n",
    "    if len(target) == 0:\n",
    "        return len(source)\n",
    " \n",
    "    # We call tuple() to force strings to be used as sequences\n",
    "    # ('c', 'a', 't', 's') - numpy uses them as values by default.\n",
    "    source = np.array(tuple(source))\n",
    "    target = np.array(tuple(target))\n",
    " \n",
    "    # We use a dynamic programming algorithm, but with the\n",
    "    # added optimization that we only need the last two rows\n",
    "    # of the matrix.\n",
    "    previous_row = np.arange(target.size + 1)\n",
    "    for s in source:\n",
    "        # Insertion (target grows longer than source):\n",
    "        current_row = previous_row + 1\n",
    " \n",
    "        # Substitution or matching:\n",
    "        # Target and source items are aligned, and either\n",
    "        # are different (cost of 1), or are the same (cost of 0).\n",
    "        current_row[1:] = np.minimum(\n",
    "                current_row[1:],\n",
    "                np.add(previous_row[:-1], target != s))\n",
    " \n",
    "        # Deletion (target grows shorter than source):\n",
    "        current_row[1:] = np.minimum(\n",
    "                current_row[1:],\n",
    "                current_row[0:-1] + 1)\n",
    " \n",
    "        previous_row = current_row\n",
    " \n",
    "    return previous_row[-1]\n",
    "\n",
    "def levenshteinTile(original, year, dbpedia):\n",
    "#     original = original.decode('utf-8')\n",
    "    return min([levenshtein(original+\"\",dbpedia), levenshtein(original+\" (film)\",dbpedia), levenshtein(original+\" (\"+year+\" film)\",dbpedia)])"
   ]
  },
  {
   "cell_type": "code",
   "execution_count": null,
   "metadata": {
    "collapsed": true
   },
   "outputs": [],
   "source": [
    "def categoryMatch(uri, categories):\n",
    "    if uri is None or len(categories)==0:\n",
    "        return 0.0\n",
    "    sparql = SPARQLWrapper(sparqlEndpoint)\n",
    "    query = \"\"\"\n",
    "    SELECT DISTINCT ?category WHERE {\n",
    "        <%s> dct:subject ?cat .\n",
    "        ?cat rdfs:label ?category .\n",
    "        }\n",
    "    \"\"\" % (uri)\n",
    "    sparql.setQuery(query)\n",
    "    \n",
    "    sparql.setReturnFormat(JSON)\n",
    "    results = sparql.query().convert()\n",
    "    if len(results[\"results\"][\"bindings\"])>0:\n",
    "        return sum([max([re.search(cat, dbcat[\"category\"][\"value\"], re.IGNORECASE) is not None for dbcat in results[\"results\"][\"bindings\"]]) for cat in categories])/float(len(categories))\n",
    "    else:\n",
    "        return 0.0"
   ]
  },
  {
   "cell_type": "code",
   "execution_count": null,
   "metadata": {
    "collapsed": true
   },
   "outputs": [],
   "source": [
    "def checkExactNameYear(name, year):\n",
    "    sparql = SPARQLWrapper(sparqlEndpoint)\n",
    "    query = \"\"\"\n",
    "        SELECT DISTINCT ?movie ?title ?cat WHERE {\n",
    "            ?movie rdf:type dbo:Film ;\n",
    "            rdfs:label ?title .\n",
    "            ?movie dct:subject ?cat .\n",
    "            ?cat rdfs:label ?year .\n",
    "            FILTER (((str(?title)=\"%s\" || str(?title)=\"%s (film)\") && regex(?year,\"^%s film\", \"i\")) || str(?title)=\"%s (%s film)\")\n",
    "        }\n",
    "        ORDER BY ASC(?movie) \n",
    "    \"\"\" % (name, name, year, name, year)\n",
    "    sparql.setQuery(query)\n",
    "    \n",
    "    sparql.setReturnFormat(JSON)\n",
    "    results = sparql.query().convert()\n",
    "    uris = [(result[\"movie\"][\"value\"]).encode(\"utf-8\") for result in results[\"results\"][\"bindings\"]]  \n",
    "    uris = list(set(uris))\n",
    "    if len(uris)==1:\n",
    "        confidence = min([levenshteinTile(name, year, result[\"title\"][\"value\"]) for result in results[\"results\"][\"bindings\"]])\n",
    "        confidence = 1.0-confidence/float(len(name))\n",
    "        return str(uris[0]), confidence\n",
    "    else: \n",
    "        return None, 0.0"
   ]
  },
  {
   "cell_type": "code",
   "execution_count": null,
   "metadata": {
    "collapsed": true
   },
   "outputs": [],
   "source": [
    "def checkRegexpNameYear(name, year):\n",
    "    sparql = SPARQLWrapper(sparqlEndpoint)\n",
    "    query = \"\"\"\n",
    "        SELECT DISTINCT ?movie ?title ?cat WHERE {\n",
    "            ?movie rdf:type dbo:Film ;\n",
    "            rdfs:label ?title .\n",
    "            ?movie dct:subject ?cat .\n",
    "            ?cat rdfs:label ?year .\n",
    "            FILTER regex(?title,\"%s\", \"i\") .\n",
    "            FILTER regex(?year,\"%s\", \"i\")\n",
    "        }\n",
    "        ORDER BY ASC(?movie) \n",
    "    \"\"\" % (name,year)\n",
    "    sparql.setQuery(query)\n",
    "    \n",
    "    sparql.setReturnFormat(JSON)\n",
    "    results = sparql.query().convert()\n",
    "    uris = [(result[\"movie\"][\"value\"]).encode(\"utf-8\") for result in results[\"results\"][\"bindings\"]]  \n",
    "    uris = list(set(uris))\n",
    "    if len(uris)==1:\n",
    "        confidence = min([levenshteinTile(name, year, result[\"title\"][\"value\"]) for result in results[\"results\"][\"bindings\"]])\n",
    "        confidence = 1.0-confidence/float(len(name))\n",
    "        return str(uris[0]), confidence\n",
    "    else: \n",
    "        return None, 0.0"
   ]
  },
  {
   "cell_type": "code",
   "execution_count": null,
   "metadata": {
    "collapsed": true
   },
   "outputs": [],
   "source": [
    "def checkIsAAbstractYear(name, year):\n",
    "    sparql = SPARQLWrapper(sparqlEndpoint)\n",
    "    query = \"\"\"\n",
    "        SELECT DISTINCT ?movie ?title ?abstract ?cat WHERE {\n",
    "            ?movie rdf:type dbo:Film ;\n",
    "            dbo:abstract ?abstract;\n",
    "            rdfs:label ?title .\n",
    "            FILTER (regex(?abstract,\"^%s is a %s\", \"i\") || regex(?abstract,\"^%s .* releas.* %s\", \"i\"))\n",
    "        }\n",
    "        ORDER BY ASC(?movie) \n",
    "    \"\"\" % (name, year, name, year)\n",
    "    sparql.setQuery(query)\n",
    "    \n",
    "    sparql.setReturnFormat(JSON)\n",
    "    results = sparql.query().convert()\n",
    "    uris = [(result[\"movie\"][\"value\"]).encode(\"utf-8\") for result in results[\"results\"][\"bindings\"]]  \n",
    "    uris = list(set(uris))\n",
    "    if len(uris)==1:\n",
    "        confidence = min([levenshteinTile(name, year, result[\"title\"][\"value\"]) for result in results[\"results\"][\"bindings\"]])\n",
    "        confidence = 1.0-confidence/float(len(name))\n",
    "        return str(uris[0]), confidence\n",
    "    else: \n",
    "        return None, 0.0"
   ]
  },
  {
   "cell_type": "code",
   "execution_count": null,
   "metadata": {
    "collapsed": true
   },
   "outputs": [],
   "source": [
    "def checkRegexpAbstractYear(name, year):\n",
    "    sparql = SPARQLWrapper(sparqlEndpoint)\n",
    "    query = \"\"\"\n",
    "        SELECT DISTINCT ?movie ?title ?abstract ?cat WHERE {\n",
    "            ?movie rdf:type dbo:Film ;\n",
    "            dbo:abstract ?abstract;\n",
    "            rdfs:label ?title .\n",
    "            ?movie dct:subject ?cat .\n",
    "            ?cat rdfs:label ?year .\n",
    "            FILTER regex(?abstract,\"%s\", \"i\").\n",
    "            FILTER regex(?year,\"%s\", \"i\")\n",
    "        }\n",
    "        ORDER BY ASC(?movie) \n",
    "    \"\"\" % (name,year)\n",
    "    sparql.setQuery(query)\n",
    "    \n",
    "    sparql.setReturnFormat(JSON)\n",
    "    results = sparql.query().convert()\n",
    "    uris = [(result[\"movie\"][\"value\"]).encode(\"utf-8\") for result in results[\"results\"][\"bindings\"]]  \n",
    "    uris = list(set(uris))\n",
    "    if len(uris)==1:\n",
    "        confidence = min([levenshteinTile(name, year, result[\"title\"][\"value\"]) for result in results[\"results\"][\"bindings\"]])\n",
    "        confidence = 1.0-confidence/float(len(name))\n",
    "        return str(uris[0]), confidence\n",
    "    else: \n",
    "        return None, 0.0"
   ]
  },
  {
   "cell_type": "code",
   "execution_count": null,
   "metadata": {
    "collapsed": true
   },
   "outputs": [],
   "source": [
    "def getMapping(title, year, categories):\n",
    "    # same title and year\n",
    "    uri, confidence = checkExactNameYear(title, year)\n",
    "    if uri is not None:\n",
    "        return uri, confidence, \"perfect\"\n",
    "    uri, confidence = checkIsAAbstractYear(title, year)\n",
    "    if uri is not None:\n",
    "        return uri, confidence, \"pattern\"\n",
    "    uri, confidence = checkRegexpNameYear(title, year)\n",
    "    if uri is not None:\n",
    "        return uri, confidence, \"partial\"\n",
    "    uri, confidence = checkRegexpAbstractYear(title, year)\n",
    "    if uri is not None:\n",
    "        return uri, confidence, \"any\"\n",
    "    \n",
    "    # same title, year+1\n",
    "    uri, confidence = checkExactNameYear(title, str(int(year)+1))\n",
    "    if uri is not None:\n",
    "        return uri, confidence, \"perfect\"\n",
    "    uri, confidence = checkIsAAbstractYear(title, str(int(year)+1))\n",
    "    if uri is not None:\n",
    "        return uri, confidence, \"pattern\"\n",
    "    uri, confidence = checkRegexpNameYear(title, str(int(year)+1))\n",
    "    if uri is not None:\n",
    "        return uri, confidence, \"partial\"\n",
    "    uri, confidence = checkRegexpAbstractYear(title, str(int(year)+1))\n",
    "    if uri is not None:\n",
    "        return uri, confidence, \"any\"\n",
    "    \n",
    "    # same title, year-1\n",
    "    uri, confidence = checkExactNameYear(title, str(int(year)-1))\n",
    "    if uri is not None:\n",
    "        return uri, confidence, \"perfect\"\n",
    "    uri, confidence = checkIsAAbstractYear(title, str(int(year)-1))\n",
    "    if uri is not None:\n",
    "        return uri, confidence, \"pattern\"\n",
    "    uri, confidence = checkRegexpNameYear(title, str(int(year)-1))\n",
    "    if uri is not None:\n",
    "        return uri, confidence, \"partial\"\n",
    "    uri, confidence = checkRegexpAbstractYear(title, str(int(year)-1))\n",
    "    if uri is not None:\n",
    "        return uri, confidence, \"any\"   \n",
    "    \n",
    "    return None, 0.0, \"\"\n",
    "    "
   ]
  },
  {
   "cell_type": "code",
   "execution_count": null,
   "metadata": {
    "collapsed": false
   },
   "outputs": [],
   "source": [
    "\"\"\"\n",
    "Download\n",
    "\"\"\"\n",
    "retriveResult = urllib.urlretrieve(\"https://raw.githubusercontent.com/sidooms/MovieTweetings/master/latest/movies.dat\", \"./latest-movies.dat\")"
   ]
  },
  {
   "cell_type": "code",
   "execution_count": null,
   "metadata": {
    "collapsed": false
   },
   "outputs": [],
   "source": [
    "\"\"\"\n",
    "Read data\n",
    "\"\"\"\n",
    "movies = pd.read_csv(\"./latest-movies.dat\", sep=\"::\", encoding=\"utf-8\", header=None, names=[\"id\", \"title\", \"genre\"])\n",
    "latestMappings = pd.read_csv(\"./mappings.csv\", sep=\";\", encoding=\"utf-8\")"
   ]
  },
  {
   "cell_type": "code",
   "execution_count": null,
   "metadata": {
    "collapsed": false
   },
   "outputs": [],
   "source": [
    "\"\"\"\n",
    "Print Details \n",
    "\"\"\"\n",
    "print \"MovieTweetings movies: {0}\".format(movies.shape)\n",
    "print movies[:3]\n",
    "print \"Mappings: {0}\".format(latestMappings.shape) \n",
    "print latestMappings[:3]"
   ]
  },
  {
   "cell_type": "code",
   "execution_count": null,
   "metadata": {
    "collapsed": false
   },
   "outputs": [],
   "source": [
    "\"\"\"\n",
    "Merge\n",
    "\"\"\"\n",
    "print \"Movies {} + Latest mappings {}\".format(movies.shape, latestMappings.shape)\n",
    "mappings = pd.merge(movies, latestMappings, on=\"id\", how=\"left\")\n",
    "mappings.drop([\"title_y\", \"genre_y\"], axis=1, inplace=True)\n",
    "mappings.rename(columns={\"title_x\":\"title\", \"genre_x\":\"genre\"}, inplace=True)\n",
    "print \"Mappings Merged: {} \\n ...\".format(mappings.shape)\n",
    "print mappings[:3]\n",
    "mappings.to_csv(\"./mappings.csv\", index=False, sep=\";\", encoding=\"utf-8\")        "
   ]
  },
  {
   "cell_type": "code",
   "execution_count": null,
   "metadata": {
    "collapsed": false
   },
   "outputs": [],
   "source": [
    "mappings = pd.read_csv(\"./mappings.csv\", sep=\";\", encoding=\"utf-8\")\n",
    "mappings.fillna(\"\")\n",
    "\n",
    "toUpdate = np.random.choice(mappings.sort([\"updated\"]).head(20000).index.values,100)\n",
    "\n",
    "for id, row in mappings.iterrows():\n",
    "    if str(row[\"updated\"]) == \"nan\" or id in toUpdate:\n",
    "        originalTitle = row[\"title\"]\n",
    "        originalCategories = row[\"genre\"]\n",
    "        name = originalTitle[0:originalTitle.rfind(\" \")].replace(\"?\",\"\")\n",
    "        year = originalTitle[originalTitle.rfind(\" \")+1:].replace(\"(\",\"\").replace(\")\",\"\")\n",
    "        categories = originalCategories.split(\"|\") if type(originalCategories) is str or type(originalCategories) is unicode else []\n",
    "        name = name.strip()\n",
    "        year = year.strip()\n",
    "        print \"{0}: {1}, {2}, {3}\".format(id, name.encode(\"utf-8\"), year, categories)\n",
    "\n",
    "        uri, titleConfidence, method = getMapping(name, year, categories)\n",
    "        categoryConfidence = categoryMatch(uri, categories)\n",
    "        yearConfidence = 0.0\n",
    "        if uri is not None:\n",
    "            yearConfidence = 1.0\n",
    "            if method.endswith(\"-\") or method.endswith(\"+\"):\n",
    "                yearConfidence = 1.0-1.0/float(year)\n",
    "        print \"URI: {0}\".format(uri)\n",
    "        print \"Method: {0}\".format(method)\n",
    "        print \"Title confidence: {0}\".format(titleConfidence)\n",
    "        print \"Year confidence: {0}\".format(yearConfidence)\n",
    "        print \"Categories confidence: {0}\".format(categoryConfidence)\n",
    "        \n",
    "        if titleConfidence > 0.0:\n",
    "            print \"--> mapped\"\n",
    "            mappings.iloc[id,3] = uri\n",
    "            mappings.iloc[id,4] = method\n",
    "            mappings.iloc[id,5] = titleConfidence\n",
    "            mappings.iloc[id,6] = yearConfidence\n",
    "            mappings.iloc[id,7] = categoryConfidence\n",
    "        else:\n",
    "            print \"--> unmapped\"\n",
    "            mappings.iloc[id,3] = None\n",
    "            mappings.iloc[id,4] = None\n",
    "            mappings.iloc[id,5] = 0.0\n",
    "            mappings.iloc[id,6] = 0.0\n",
    "            mappings.iloc[id,7] = 0.0\n",
    "        \n",
    "        print \"\\n\"    \n",
    "        mappings.iloc[id,8] = str(datetime.datetime.now().replace(microsecond=0).isoformat())\n",
    "        mappings.to_csv(\"./mappings.csv\", index=False, sep=\";\", encoding=\"utf-8\")        "
   ]
  }
 ],
 "metadata": {
  "kernelspec": {
   "display_name": "Python 2",
   "language": "python",
   "name": "python2"
  },
  "language_info": {
   "codemirror_mode": {
    "name": "ipython",
    "version": 2
   },
   "file_extension": ".py",
   "mimetype": "text/x-python",
   "name": "python",
   "nbconvert_exporter": "python",
   "pygments_lexer": "ipython2",
   "version": "2.7.12"
  }
 },
 "nbformat": 4,
 "nbformat_minor": 0
}
